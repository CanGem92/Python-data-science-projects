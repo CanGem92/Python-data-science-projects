{
 "cells": [
  {
   "cell_type": "code",
   "execution_count": 2,
   "metadata": {},
   "outputs": [],
   "source": [
    "#import the data\n",
    "import numpy as np\n",
    "import pandas as pd\n",
    "from sklearn.preprocessing import OneHotEncoder\n",
    "df=pd.read_csv('rides_by_user')"
   ]
  },
  {
   "cell_type": "code",
   "execution_count": 3,
   "metadata": {},
   "outputs": [
    {
     "data": {
      "text/html": [
       "<div>\n",
       "<style scoped>\n",
       "    .dataframe tbody tr th:only-of-type {\n",
       "        vertical-align: middle;\n",
       "    }\n",
       "\n",
       "    .dataframe tbody tr th {\n",
       "        vertical-align: top;\n",
       "    }\n",
       "\n",
       "    .dataframe thead th {\n",
       "        text-align: right;\n",
       "    }\n",
       "</style>\n",
       "<table border=\"1\" class=\"dataframe\">\n",
       "  <thead>\n",
       "    <tr style=\"text-align: right;\">\n",
       "      <th></th>\n",
       "      <th>user_id</th>\n",
       "      <th>platform</th>\n",
       "      <th>age_range</th>\n",
       "      <th>time_to_signup</th>\n",
       "      <th>time_to_first_request</th>\n",
       "      <th>mean_wait_time</th>\n",
       "      <th>acceptance_rate</th>\n",
       "      <th>churned</th>\n",
       "    </tr>\n",
       "  </thead>\n",
       "  <tbody>\n",
       "    <tr>\n",
       "      <th>0</th>\n",
       "      <td>103775</td>\n",
       "      <td>web</td>\n",
       "      <td>25-34</td>\n",
       "      <td>103080.0</td>\n",
       "      <td>86440.0</td>\n",
       "      <td>1000.000000</td>\n",
       "      <td>0.111111</td>\n",
       "      <td>1</td>\n",
       "    </tr>\n",
       "    <tr>\n",
       "      <th>1</th>\n",
       "      <td>113929</td>\n",
       "      <td>android</td>\n",
       "      <td>Unknown</td>\n",
       "      <td>121140.0</td>\n",
       "      <td>70782.0</td>\n",
       "      <td>340.800000</td>\n",
       "      <td>1.000000</td>\n",
       "      <td>0</td>\n",
       "    </tr>\n",
       "    <tr>\n",
       "      <th>2</th>\n",
       "      <td>103676</td>\n",
       "      <td>web</td>\n",
       "      <td>35-44</td>\n",
       "      <td>60900.0</td>\n",
       "      <td>21020391.0</td>\n",
       "      <td>407.727273</td>\n",
       "      <td>1.000000</td>\n",
       "      <td>0</td>\n",
       "    </tr>\n",
       "    <tr>\n",
       "      <th>3</th>\n",
       "      <td>117225</td>\n",
       "      <td>ios</td>\n",
       "      <td>35-44</td>\n",
       "      <td>37920.0</td>\n",
       "      <td>122001.0</td>\n",
       "      <td>1020.000000</td>\n",
       "      <td>0.160000</td>\n",
       "      <td>1</td>\n",
       "    </tr>\n",
       "    <tr>\n",
       "      <th>4</th>\n",
       "      <td>100066</td>\n",
       "      <td>web</td>\n",
       "      <td>45-54</td>\n",
       "      <td>88320.0</td>\n",
       "      <td>7547249.0</td>\n",
       "      <td>351.818182</td>\n",
       "      <td>1.000000</td>\n",
       "      <td>0</td>\n",
       "    </tr>\n",
       "  </tbody>\n",
       "</table>\n",
       "</div>"
      ],
      "text/plain": [
       "   user_id platform age_range  time_to_signup  time_to_first_request  \\\n",
       "0   103775      web     25-34        103080.0                86440.0   \n",
       "1   113929  android   Unknown        121140.0                70782.0   \n",
       "2   103676      web     35-44         60900.0             21020391.0   \n",
       "3   117225      ios     35-44         37920.0               122001.0   \n",
       "4   100066      web     45-54         88320.0              7547249.0   \n",
       "\n",
       "   mean_wait_time  acceptance_rate  churned  \n",
       "0     1000.000000         0.111111        1  \n",
       "1      340.800000         1.000000        0  \n",
       "2      407.727273         1.000000        0  \n",
       "3     1020.000000         0.160000        1  \n",
       "4      351.818182         1.000000        0  "
      ]
     },
     "execution_count": 3,
     "metadata": {},
     "output_type": "execute_result"
    }
   ],
   "source": [
    "df.head()"
   ]
  },
  {
   "cell_type": "code",
   "execution_count": 4,
   "metadata": {},
   "outputs": [
    {
     "name": "stdout",
     "output_type": "stream",
     "text": [
      "<class 'pandas.core.frame.DataFrame'>\n",
      "RangeIndex: 12406 entries, 0 to 12405\n",
      "Data columns (total 8 columns):\n",
      " #   Column                 Non-Null Count  Dtype  \n",
      "---  ------                 --------------  -----  \n",
      " 0   user_id                12406 non-null  int64  \n",
      " 1   platform               12406 non-null  object \n",
      " 2   age_range              12406 non-null  object \n",
      " 3   time_to_signup         12406 non-null  float64\n",
      " 4   time_to_first_request  12406 non-null  float64\n",
      " 5   mean_wait_time         12278 non-null  float64\n",
      " 6   acceptance_rate        12406 non-null  float64\n",
      " 7   churned                12406 non-null  int64  \n",
      "dtypes: float64(4), int64(2), object(2)\n",
      "memory usage: 775.5+ KB\n"
     ]
    }
   ],
   "source": [
    "df.info()"
   ]
  },
  {
   "cell_type": "code",
   "execution_count": 5,
   "metadata": {},
   "outputs": [],
   "source": [
    "#onehotencode the categorical features\n",
    "enc=OneHotEncoder(handle_unknown='ignore', drop='first')\n",
    "enc_df = pd.DataFrame(enc.fit_transform(df[['platform', 'age_range']]).toarray(), columns=enc.get_feature_names_out())\n",
    "enc_df = df.join(enc_df)"
   ]
  },
  {
   "cell_type": "code",
   "execution_count": 6,
   "metadata": {},
   "outputs": [],
   "source": [
    "#drop id columns and cat columns\n",
    "data= enc_df.drop(['user_id', 'platform', 'age_range'], axis=1)\n",
    "data.dropna(inplace=True)"
   ]
  },
  {
   "cell_type": "code",
   "execution_count": 7,
   "metadata": {},
   "outputs": [],
   "source": [
    "y= data['churned']\n",
    "X= data.loc[:, data.columns != 'churned']"
   ]
  },
  {
   "cell_type": "code",
   "execution_count": 8,
   "metadata": {},
   "outputs": [
    {
     "name": "stdout",
     "output_type": "stream",
     "text": [
      "[1. 1. 1. 1. 1.]\n",
      "[0. 0. 1. 0. 0. 0. 0. 0. 0. 0.]\n",
      "[0. 0. 1. 0. 0. 0. 0. 0. 0. 0.]\n",
      "[0. 0. 1. 0. 0. 0. 0. 0. 0. 0.]\n",
      "[0. 0. 0. 1. 0. 0. 0. 0. 0. 0.]\n",
      "[0. 0. 0. 1. 0. 0. 0. 0. 0. 0.]\n"
     ]
    }
   ],
   "source": [
    "#decision tree classifier, no need for scaling\n",
    "from sklearn.model_selection import KFold, cross_validate\n",
    "from sklearn.tree import DecisionTreeClassifier\n",
    "dt = DecisionTreeClassifier()\n",
    "cv = KFold(n_splits=5, shuffle=True, random_state=8)\n",
    "cv_score = cross_validate(dt, X, y, cv=cv, return_estimator=True)\n",
    "print(cv_score['test_score'])\n",
    "#churn is entirely predicted by avg wait time and acceptance rate (perfect separation)\n",
    "for x in range(0,5):\n",
    "    print(cv_score['estimator'][x].feature_importances_)"
   ]
  },
  {
   "cell_type": "code",
   "execution_count": 9,
   "metadata": {},
   "outputs": [
    {
     "name": "stdout",
     "output_type": "stream",
     "text": [
      "[1. 1. 1. 1. 1.]\n"
     ]
    }
   ],
   "source": [
    "#trying a pipeline with knn, using ColumnTransormer with StandardScaler for scaling to avoid leakage during cross validation\n",
    "#no need for hyperparameter tuning given the model's perfect performance\n",
    "from sklearn.pipeline import Pipeline\n",
    "from sklearn.preprocessing import StandardScaler\n",
    "from sklearn.neighbors import KNeighborsClassifier\n",
    "from sklearn.compose import ColumnTransformer\n",
    "from sklearn.model_selection import KFold, cross_val_score\n",
    "X_cont = X[['time_to_signup', 'time_to_first_request', 'mean_wait_time', 'acceptance_rate']].columns\n",
    "t= [('cont', StandardScaler(), X_cont)]\n",
    "ct = ColumnTransformer(transformers= t, remainder='passthrough')\n",
    "knn = KNeighborsClassifier()\n",
    "steps = [('scaling', ct), ('knn', knn)]\n",
    "pipeline = Pipeline(steps)\n",
    "cv = KFold(n_splits=5, shuffle=True, random_state=8)\n",
    "cv_score = cross_val_score(pipeline, X, y, cv=cv)\n",
    "print(cv_score)\n"
   ]
  }
 ],
 "metadata": {
  "kernelspec": {
   "display_name": "base",
   "language": "python",
   "name": "python3"
  },
  "language_info": {
   "codemirror_mode": {
    "name": "ipython",
    "version": 3
   },
   "file_extension": ".py",
   "mimetype": "text/x-python",
   "name": "python",
   "nbconvert_exporter": "python",
   "pygments_lexer": "ipython3",
   "version": "3.9.16"
  },
  "orig_nbformat": 4
 },
 "nbformat": 4,
 "nbformat_minor": 2
}
