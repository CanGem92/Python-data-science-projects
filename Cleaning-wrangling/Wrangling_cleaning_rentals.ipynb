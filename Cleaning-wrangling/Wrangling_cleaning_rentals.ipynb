{
 "cells": [
  {
   "cell_type": "code",
   "execution_count": 1,
   "metadata": {},
   "outputs": [],
   "source": [
    "#importing packages and data\n",
    "import pandas as pd\n",
    "import numpy as np\n",
    "prices = pd.read_csv('prices.csv')\n",
    "xls = pd.ExcelFile('room_types.xlsx')\n",
    "room_types = xls.parse('airbnb_room_type')\n",
    "reviews = pd.read_csv('reviews.tsv', sep='\\t', parse_dates=['last_review'])"
   ]
  },
  {
   "cell_type": "code",
   "execution_count": 2,
   "metadata": {},
   "outputs": [
    {
     "name": "stdout",
     "output_type": "stream",
     "text": [
      "<class 'pandas.core.frame.DataFrame'>\n",
      "RangeIndex: 25209 entries, 0 to 25208\n",
      "Data columns (total 3 columns):\n",
      " #   Column       Non-Null Count  Dtype \n",
      "---  ------       --------------  ----- \n",
      " 0   listing_id   25209 non-null  int64 \n",
      " 1   price        25209 non-null  object\n",
      " 2   nbhood_full  25209 non-null  object\n",
      "dtypes: int64(1), object(2)\n",
      "memory usage: 591.0+ KB\n",
      "<class 'pandas.core.frame.DataFrame'>\n",
      "RangeIndex: 25209 entries, 0 to 25208\n",
      "Data columns (total 3 columns):\n",
      " #   Column       Non-Null Count  Dtype \n",
      "---  ------       --------------  ----- \n",
      " 0   listing_id   25209 non-null  int64 \n",
      " 1   description  25199 non-null  object\n",
      " 2   room_type    25209 non-null  object\n",
      "dtypes: int64(1), object(2)\n",
      "memory usage: 591.0+ KB\n",
      "<class 'pandas.core.frame.DataFrame'>\n",
      "RangeIndex: 25209 entries, 0 to 25208\n",
      "Data columns (total 3 columns):\n",
      " #   Column       Non-Null Count  Dtype         \n",
      "---  ------       --------------  -----         \n",
      " 0   listing_id   25209 non-null  int64         \n",
      " 1   host_name    25201 non-null  object        \n",
      " 2   last_review  25209 non-null  datetime64[ns]\n",
      "dtypes: datetime64[ns](1), int64(1), object(1)\n",
      "memory usage: 591.0+ KB\n"
     ]
    }
   ],
   "source": [
    "prices.info()\n",
    "room_types.info()\n",
    "reviews.info()"
   ]
  },
  {
   "cell_type": "code",
   "execution_count": 3,
   "metadata": {},
   "outputs": [
    {
     "name": "stdout",
     "output_type": "stream",
     "text": [
      "   listing_id        price                nbhood_full\n",
      "0        2595  225 dollars         Manhattan, Midtown\n",
      "1        3831   89 dollars     Brooklyn, Clinton Hill\n",
      "2        5099  200 dollars     Manhattan, Murray Hill\n",
      "3        5178   79 dollars  Manhattan, Hell's Kitchen\n",
      "4        5238  150 dollars       Manhattan, Chinatown\n",
      "   listing_id                                description        room_type\n",
      "0        2595                      Skylit Midtown Castle  Entire home/apt\n",
      "1        3831            Cozy Entire Floor of Brownstone  Entire home/apt\n",
      "2        5099  Large Cozy 1 BR Apartment In Midtown East  Entire home/apt\n",
      "3        5178            Large Furnished Room Near B'way     private room\n",
      "4        5238         Cute & Cozy Lower East Side 1 bdrm  Entire home/apt\n",
      "   listing_id    host_name last_review\n",
      "0        2595     Jennifer  2019-05-21\n",
      "1        3831  LisaRoxanne  2019-07-05\n",
      "2        5099        Chris  2019-06-22\n",
      "3        5178     Shunichi  2019-06-24\n",
      "4        5238          Ben  2019-06-09\n"
     ]
    }
   ],
   "source": [
    "print(prices.head())\n",
    "print(room_types.head())\n",
    "print(reviews.head())"
   ]
  },
  {
   "cell_type": "code",
   "execution_count": 4,
   "metadata": {},
   "outputs": [],
   "source": [
    "#removing trailing dollars string from price and converting to float\n",
    "prices['price'] = prices['price'].str.strip(' dollars').astype(int)\n",
    "#removing outliers in price\n",
    "prices = prices.loc[~prices['price'].isin([0, 7500]), :]\n",
    "\n"
   ]
  },
  {
   "cell_type": "code",
   "execution_count": 5,
   "metadata": {},
   "outputs": [
    {
     "data": {
      "text/plain": [
       "141.52533629617872"
      ]
     },
     "execution_count": 5,
     "metadata": {},
     "output_type": "execute_result"
    }
   ],
   "source": [
    "#mean rental price\n",
    "prices['price'].mean()"
   ]
  },
  {
   "cell_type": "code",
   "execution_count": 6,
   "metadata": {},
   "outputs": [],
   "source": [
    "#converting price to monthly\n",
    "prices['monthly_price'] = prices['price']*365/12"
   ]
  },
  {
   "cell_type": "code",
   "execution_count": 7,
   "metadata": {},
   "outputs": [],
   "source": [
    "#creating a separate borough column\n",
    "prices['borough'] = prices['nbhood_full'].str.split(pat=', ', expand=True).get(0)\n"
   ]
  },
  {
   "cell_type": "code",
   "execution_count": 8,
   "metadata": {},
   "outputs": [],
   "source": [
    "#cleaning room type column\n",
    "room_types['room_type'].unique()\n",
    "room_types['room_type'] = room_types['room_type'].str.capitalize()\n",
    "room_types['room_type'] = room_types['room_type'].astype('category')"
   ]
  },
  {
   "cell_type": "code",
   "execution_count": 9,
   "metadata": {},
   "outputs": [],
   "source": [
    "#merging\n",
    "df = prices.merge(room_types, on='listing_id').merge(reviews, on='listing_id')"
   ]
  },
  {
   "cell_type": "code",
   "execution_count": 10,
   "metadata": {},
   "outputs": [],
   "source": [
    "#dropping nulls\n",
    "df = df.dropna()"
   ]
  },
  {
   "cell_type": "code",
   "execution_count": 11,
   "metadata": {},
   "outputs": [
    {
     "data": {
      "text/html": [
       "<div>\n",
       "<style scoped>\n",
       "    .dataframe tbody tr th:only-of-type {\n",
       "        vertical-align: middle;\n",
       "    }\n",
       "\n",
       "    .dataframe tbody tr th {\n",
       "        vertical-align: top;\n",
       "    }\n",
       "\n",
       "    .dataframe thead th {\n",
       "        text-align: right;\n",
       "    }\n",
       "</style>\n",
       "<table border=\"1\" class=\"dataframe\">\n",
       "  <thead>\n",
       "    <tr style=\"text-align: right;\">\n",
       "      <th></th>\n",
       "      <th>listing_id</th>\n",
       "      <th>price</th>\n",
       "      <th>nbhood_full</th>\n",
       "      <th>monthly_price</th>\n",
       "      <th>borough</th>\n",
       "      <th>description</th>\n",
       "      <th>room_type</th>\n",
       "      <th>host_name</th>\n",
       "      <th>last_review</th>\n",
       "    </tr>\n",
       "  </thead>\n",
       "  <tbody>\n",
       "  </tbody>\n",
       "</table>\n",
       "</div>"
      ],
      "text/plain": [
       "Empty DataFrame\n",
       "Columns: [listing_id, price, nbhood_full, monthly_price, borough, description, room_type, host_name, last_review]\n",
       "Index: []"
      ]
     },
     "execution_count": 11,
     "metadata": {},
     "output_type": "execute_result"
    }
   ],
   "source": [
    "#checking for duplicates\n",
    "duplicates = df.duplicated()\n",
    "df[duplicates]"
   ]
  },
  {
   "cell_type": "code",
   "execution_count": 16,
   "metadata": {},
   "outputs": [],
   "source": [
    "#creating a price range category column\n",
    "df['price_range'] = pd.cut(df['price'], bins=[0, 70,  176,  351,  np.inf], labels=['Budget','Average', 'Expensive', 'Extravagant'] )"
   ]
  },
  {
   "cell_type": "code",
   "execution_count": 13,
   "metadata": {},
   "outputs": [
    {
     "name": "stdout",
     "output_type": "stream",
     "text": [
      "   listing_id  price                nbhood_full  monthly_price    borough  \\\n",
      "0        2595    225         Manhattan, Midtown    6843.750000  Manhattan   \n",
      "1        3831     89     Brooklyn, Clinton Hill    2707.083333   Brooklyn   \n",
      "2        5099    200     Manhattan, Murray Hill    6083.333333  Manhattan   \n",
      "3        5178     79  Manhattan, Hell's Kitchen    2402.916667  Manhattan   \n",
      "4        5238    150       Manhattan, Chinatown    4562.500000  Manhattan   \n",
      "\n",
      "                                 description        room_type    host_name  \\\n",
      "0                      Skylit Midtown Castle  Entire home/apt     Jennifer   \n",
      "1            Cozy Entire Floor of Brownstone  Entire home/apt  LisaRoxanne   \n",
      "2  Large Cozy 1 BR Apartment In Midtown East  Entire home/apt        Chris   \n",
      "3            Large Furnished Room Near B'way     Private room     Shunichi   \n",
      "4         Cute & Cozy Lower East Side 1 bdrm  Entire home/apt          Ben   \n",
      "\n",
      "  last_review price_range  \n",
      "0  2019-05-21   Expensive  \n",
      "1  2019-07-05     Average  \n",
      "2  2019-06-22   Expensive  \n",
      "3  2019-06-24     Average  \n",
      "4  2019-06-09     Average  \n",
      "<class 'pandas.core.frame.DataFrame'>\n",
      "Int64Index: 25183 entries, 0 to 25200\n",
      "Data columns (total 10 columns):\n",
      " #   Column         Non-Null Count  Dtype         \n",
      "---  ------         --------------  -----         \n",
      " 0   listing_id     25183 non-null  int64         \n",
      " 1   price          25183 non-null  int64         \n",
      " 2   nbhood_full    25183 non-null  object        \n",
      " 3   monthly_price  25183 non-null  float64       \n",
      " 4   borough        25183 non-null  object        \n",
      " 5   description    25183 non-null  object        \n",
      " 6   room_type      25183 non-null  object        \n",
      " 7   host_name      25183 non-null  object        \n",
      " 8   last_review    25183 non-null  datetime64[ns]\n",
      " 9   price_range    25183 non-null  category      \n",
      "dtypes: category(1), datetime64[ns](1), float64(1), int64(2), object(5)\n",
      "memory usage: 1.9+ MB\n",
      "None\n"
     ]
    }
   ],
   "source": [
    "print(df.head())\n",
    "print(df.info())"
   ]
  },
  {
   "cell_type": "code",
   "execution_count": 17,
   "metadata": {},
   "outputs": [
    {
     "data": {
      "text/plain": [
       "Budget         393\n",
       "Average        273\n",
       "Expensive       25\n",
       "Extravagant      5\n",
       "Name: price_range, dtype: int64"
      ]
     },
     "execution_count": 17,
     "metadata": {},
     "output_type": "execute_result"
    }
   ],
   "source": [
    "df[df['borough']=='Bronx']['price_range'].value_counts()"
   ]
  },
  {
   "cell_type": "code",
   "execution_count": 15,
   "metadata": {},
   "outputs": [],
   "source": [
    "df.to_csv('cleaned.csv', index='False')"
   ]
  }
 ],
 "metadata": {
  "kernelspec": {
   "display_name": "base",
   "language": "python",
   "name": "python3"
  },
  "language_info": {
   "codemirror_mode": {
    "name": "ipython",
    "version": 3
   },
   "file_extension": ".py",
   "mimetype": "text/x-python",
   "name": "python",
   "nbconvert_exporter": "python",
   "pygments_lexer": "ipython3",
   "version": "3.9.16"
  },
  "orig_nbformat": 4
 },
 "nbformat": 4,
 "nbformat_minor": 2
}
